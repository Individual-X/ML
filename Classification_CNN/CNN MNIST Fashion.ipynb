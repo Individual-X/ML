{
  "cells": [
    {
      "cell_type": "code",
      "execution_count": null,
      "metadata": {
        "id": "rYCcc3vwGZBQ"
      },
      "outputs": [],
      "source": [
        "from keras.datasets import fashion_mnist"
      ]
    },
    {
      "cell_type": "code",
      "execution_count": null,
      "metadata": {
        "id": "AIlrGkCzG0fF"
      },
      "outputs": [],
      "source": [
        "#load dataset as per needed\n",
        "(train_X, train_Y), (test_X, test_Y) = fashion_mnist.load_data()"
      ]
    },
    {
      "cell_type": "code",
      "execution_count": null,
      "metadata": {
        "colab": {
          "base_uri": "https://localhost:8080/"
        },
        "id": "LWGeKHoSHKXT",
        "outputId": "5a62d778-1601-42e6-d4a9-4882d17ed02c"
      },
      "outputs": [
        {
          "name": "stdout",
          "output_type": "stream",
          "text": [
            "(60000, 28, 28)\n",
            "(60000,)\n",
            "(10000, 28, 28)\n",
            "(10000,)\n"
          ]
        }
      ],
      "source": [
        "print(train_X.shape)\n",
        "print(train_Y.shape)\n",
        "print(test_X.shape)\n",
        "print(test_Y.shape)"
      ]
    },
    {
      "cell_type": "code",
      "execution_count": null,
      "metadata": {
        "id": "EV2HdCm5HUIf"
      },
      "outputs": [],
      "source": [
        "#visualise the data\n",
        "#import necessary library\n",
        "import numpy as np\n",
        "from keras.utils import to_categorical\n",
        "import matplotlib.pyplot as plt \n",
        "%matplotlib inline"
      ]
    },
    {
      "cell_type": "code",
      "execution_count": null,
      "metadata": {
        "id": "ah5Ej1fDJAcy"
      },
      "outputs": [],
      "source": [
        "#usnique number of classes\n",
        "number_classes = np.unique(train_Y)"
      ]
    },
    {
      "cell_type": "code",
      "execution_count": null,
      "metadata": {
        "colab": {
          "base_uri": "https://localhost:8080/"
        },
        "id": "rp9uC_flJRA5",
        "outputId": "c2ead894-43a2-4f43-cd16-9c36190100d5"
      },
      "outputs": [
        {
          "data": {
            "text/plain": [
              "array([0, 1, 2, 3, 4, 5, 6, 7, 8, 9], dtype=uint8)"
            ]
          },
          "execution_count": 48,
          "metadata": {},
          "output_type": "execute_result"
        }
      ],
      "source": [
        "number_classes"
      ]
    },
    {
      "cell_type": "code",
      "execution_count": null,
      "metadata": {
        "id": "XWVyatiUJT2X"
      },
      "outputs": [],
      "source": [
        "#total number of classes\n",
        "len_classes = len(number_classes)"
      ]
    },
    {
      "cell_type": "code",
      "execution_count": null,
      "metadata": {
        "colab": {
          "base_uri": "https://localhost:8080/"
        },
        "id": "AkHeB0-4JkPW",
        "outputId": "0cd4cbec-a359-4486-f118-c68ddbfde40f"
      },
      "outputs": [
        {
          "data": {
            "text/plain": [
              "10"
            ]
          },
          "execution_count": 50,
          "metadata": {},
          "output_type": "execute_result"
        }
      ],
      "source": [
        "len_classes"
      ]
    },
    {
      "cell_type": "code",
      "execution_count": null,
      "metadata": {
        "colab": {
          "base_uri": "https://localhost:8080/",
          "height": 429
        },
        "id": "YvNEQn2IJn03",
        "outputId": "877351fa-82e0-42d2-cccc-1eaff6b0e0c2"
      },
      "outputs": [
        {
          "data": {
            "text/plain": [
              "<matplotlib.image.AxesImage at 0x7f41e0653b20>"
            ]
          },
          "execution_count": 51,
          "metadata": {},
          "output_type": "execute_result"
        },
        {
          "data": {
            "image/png": "[encoded data removed]",
            "text/plain": [
              "<Figure size 1000x1000 with 2 Axes>"
            ]
          },
          "metadata": {},
          "output_type": "display_data"
        }
      ],
      "source": [
        "#plotting the datasets\n",
        "plt.figure(figsize=[10,10])\n",
        "plt.subplot(121)\n",
        "plt.imshow(train_X[0,:,:], cmap =\"gray\")\n",
        "\n",
        "plt.subplot(122)\n",
        "plt.imshow(test_X[0, :, :], cmap = \"gray\")\n"
      ]
    },
    {
      "cell_type": "code",
      "execution_count": null,
      "metadata": {
        "colab": {
          "base_uri": "https://localhost:8080/"
        },
        "id": "CwROr7vtMCRy",
        "outputId": "33bb0cd0-bd47-43c5-b0c4-9472a7dd7acb"
      },
      "outputs": [
        {
          "data": {
            "text/plain": [
              "(60000, 28, 28)"
            ]
          },
          "execution_count": 52,
          "metadata": {},
          "output_type": "execute_result"
        }
      ],
      "source": [
        "train_X.shape"
      ]
    },
    {
      "cell_type": "code",
      "execution_count": null,
      "metadata": {
        "id": "CurH-64w0SWu"
      },
      "outputs": [],
      "source": [
        "train_X = train_X.reshape(-1,28,28,1)"
      ]
    },
    {
      "cell_type": "code",
      "execution_count": null,
      "metadata": {
        "colab": {
          "base_uri": "https://localhost:8080/"
        },
        "id": "Heh7Rz4L0Zu2",
        "outputId": "7f15ff40-c029-4290-9944-146f677b0bc1"
      },
      "outputs": [
        {
          "data": {
            "text/plain": [
              "(60000, 28, 28, 1)"
            ]
          },
          "execution_count": 54,
          "metadata": {},
          "output_type": "execute_result"
        }
      ],
      "source": [
        "train_X.shape"
      ]
    },
    {
      "cell_type": "code",
      "execution_count": null,
      "metadata": {
        "colab": {
          "base_uri": "https://localhost:8080/"
        },
        "id": "cwum6uS10b2Z",
        "outputId": "8d47be73-eb67-4e8a-8770-870462d1810f"
      },
      "outputs": [
        {
          "data": {
            "text/plain": [
              "(10000, 28, 28)"
            ]
          },
          "execution_count": 55,
          "metadata": {},
          "output_type": "execute_result"
        }
      ],
      "source": [
        "test_X.shape"
      ]
    },
    {
      "cell_type": "code",
      "execution_count": null,
      "metadata": {
        "colab": {
          "base_uri": "https://localhost:8080/"
        },
        "id": "Q-g0owOS1H2m",
        "outputId": "afa6ad78-d536-4514-f478-8d7b8ce48a0c"
      },
      "outputs": [
        {
          "data": {
            "text/plain": [
              "(10000, 28, 28, 1)"
            ]
          },
          "execution_count": 56,
          "metadata": {},
          "output_type": "execute_result"
        }
      ],
      "source": [
        "test_X = test_X.reshape(-1,28,28,1)\n",
        "test_X.shape"
      ]
    },
    {
      "cell_type": "code",
      "execution_count": null,
      "metadata": {
        "id": "-AfE2yCs1SB7"
      },
      "outputs": [],
      "source": [
        "train_X = train_X.astype('float32')\n",
        "test_X = test_X.astype('float32')\n",
        "train_X = train_X/255\n",
        "test_X = test_X /255"
      ]
    },
    {
      "cell_type": "code",
      "execution_count": null,
      "metadata": {
        "colab": {
          "base_uri": "https://localhost:8080/"
        },
        "id": "wVkH08l_2Iem",
        "outputId": "d6066de3-f19c-4953-c11d-da2b1ec6f669"
      },
      "outputs": [
        {
          "data": {
            "text/plain": [
              "2"
            ]
          },
          "execution_count": 58,
          "metadata": {},
          "output_type": "execute_result"
        }
      ],
      "source": [
        "train_Y[5]"
      ]
    },
    {
      "cell_type": "code",
      "execution_count": null,
      "metadata": {
        "colab": {
          "base_uri": "https://localhost:8080/"
        },
        "id": "-y6u2_hf2PMX",
        "outputId": "69533f7e-7080-4d2a-9f96-ab4600db28a7"
      },
      "outputs": [
        {
          "data": {
            "text/plain": [
              "1"
            ]
          },
          "execution_count": 59,
          "metadata": {},
          "output_type": "execute_result"
        }
      ],
      "source": [
        "test_Y[5]"
      ]
    },
    {
      "cell_type": "code",
      "execution_count": null,
      "metadata": {
        "colab": {
          "base_uri": "https://localhost:8080/"
        },
        "id": "UYUzVkSh2VJG",
        "outputId": "ff1f3d34-ddb9-462c-8fe4-af08deee5f45"
      },
      "outputs": [
        {
          "data": {
            "text/plain": [
              "array([0., 0., 0., 0., 0., 0., 0., 0., 0., 1.], dtype=float32)"
            ]
          },
          "execution_count": 60,
          "metadata": {},
          "output_type": "execute_result"
        }
      ],
      "source": [
        "#now convert to the label to encoder\n",
        "\n",
        "onehot_train_Y = to_categorical(train_Y)\n",
        "onehot_test_Y = to_categorical(test_Y)\n",
        "onehot_test_Y[0]"
      ]
    },
    {
      "cell_type": "code",
      "execution_count": null,
      "metadata": {
        "id": "OnuVCYpn3Alq"
      },
      "outputs": [],
      "source": [
        "from sklearn.model_selection import train_test_split\n",
        "train_X,valid_X,train_label,valid_label = train_test_split(train_X, onehot_train_Y, test_size=0.2, random_state=13)"
      ]
    },
    {
      "cell_type": "code",
      "execution_count": null,
      "metadata": {
        "id": "kJnHJqEv3h11"
      },
      "outputs": [],
      "source": [
        "import keras\n",
        "from keras.models import Sequential,Model\n",
        "from tensorflow.keras import Input\n",
        "from keras.layers import Dense, Dropout, Flatten\n",
        "from keras.layers import Conv2D, MaxPooling2D\n",
        "from tensorflow.keras.layers import BatchNormalization\n",
        "from keras.layers import LeakyReLU"
      ]
    },
    {
      "cell_type": "code",
      "execution_count": null,
      "metadata": {
        "id": "uhwzy6tB3p7I"
      },
      "outputs": [],
      "source": [
        "batch_size = 64\n",
        "epochs = 30\n",
        "num_classes = 10"
      ]
    },
    {
      "cell_type": "code",
      "execution_count": null,
      "metadata": {
        "id": "6Z6dRsse4ke9"
      },
      "outputs": [],
      "source": [
        "model = Sequential()\n",
        "model.add(Conv2D(32, kernel_size=(3, 3),activation='linear',padding='same',input_shape=(28,28,1)))\n",
        "model.add(LeakyReLU(alpha=0.1))\n",
        "model.add(MaxPooling2D((2, 2),padding='same'))\n",
        "model.add(Dropout(0.25))\n",
        "model.add(Conv2D(64, (3, 3), activation='linear',padding='same'))\n",
        "model.add(LeakyReLU(alpha=0.1))\n",
        "model.add(MaxPooling2D(pool_size=(2, 2),padding='same'))\n",
        "model.add(Dropout(0.25))\n",
        "model.add(Conv2D(128, (3, 3), activation='linear',padding='same'))\n",
        "model.add(LeakyReLU(alpha=0.1))                  \n",
        "model.add(MaxPooling2D(pool_size=(2, 2),padding='same'))\n",
        "model.add(Dropout(0.4))\n",
        "model.add(Conv2D(256, (3, 3), activation='linear',padding='same'))\n",
        "model.add(LeakyReLU(alpha=0.1))                  \n",
        "model.add(MaxPooling2D(pool_size=(2, 2),padding='same'))\n",
        "model.add(Dropout(0.45))\n",
        "model.add(Conv2D(512, (3, 3), activation='linear',padding='same'))\n",
        "model.add(LeakyReLU(alpha=0.1))                  \n",
        "model.add(MaxPooling2D(pool_size=(2, 2),padding='same'))\n",
        "model.add(Dropout(0.45))\n",
        "model.add(Flatten())\n",
        "model.add(Dense(128, activation='linear'))\n",
        "model.add(LeakyReLU(alpha=0.1))           \n",
        "model.add(Dropout(0.3))\n",
        "model.add(Dense(num_classes, activation='softmax'))"
      ]
    },
    {
      "cell_type": "code",
      "execution_count": null,
      "metadata": {
        "colab": {
          "base_uri": "https://localhost:8080/"
        },
        "id": "A4UvXN5S42ag",
        "outputId": "9879114c-6bf8-4c53-d451-0c50ba36542b"
      },
      "outputs": [
        {
          "name": "stdout",
          "output_type": "stream",
          "text": [
            "Model: \"sequential_3\"\n",
            "_________________________________________________________________\n",
            " Layer (type)                Output Shape              Param #   \n",
            "=================================================================\n",
            " conv2d_10 (Conv2D)          (None, 28, 28, 32)        320       \n",
            "                                                                 \n",
            " leaky_re_lu_13 (LeakyReLU)  (None, 28, 28, 32)        0         \n",
            "                                                                 \n",
            " max_pooling2d_10 (MaxPoolin  (None, 14, 14, 32)       0         \n",
            " g2D)                                                            \n",
            "                                                                 \n",
            " dropout_9 (Dropout)         (None, 14, 14, 32)        0         \n",
            "                                                                 \n",
            " conv2d_11 (Conv2D)          (None, 14, 14, 64)        18496     \n",
            "                                                                 \n",
            " leaky_re_lu_14 (LeakyReLU)  (None, 14, 14, 64)        0         \n",
            "                                                                 \n",
            " max_pooling2d_11 (MaxPoolin  (None, 7, 7, 64)         0         \n",
            " g2D)                                                            \n",
            "                                                                 \n",
            " dropout_10 (Dropout)        (None, 7, 7, 64)          0         \n",
            "                                                                 \n",
            " conv2d_12 (Conv2D)          (None, 7, 7, 128)         73856     \n",
            "                                                                 \n",
            " leaky_re_lu_15 (LeakyReLU)  (None, 7, 7, 128)         0         \n",
            "                                                                 \n",
            " max_pooling2d_12 (MaxPoolin  (None, 4, 4, 128)        0         \n",
            " g2D)                                                            \n",
            "                                                                 \n",
            " dropout_11 (Dropout)        (None, 4, 4, 128)         0         \n",
            "                                                                 \n",
            " conv2d_13 (Conv2D)          (None, 4, 4, 256)         295168    \n",
            "                                                                 \n",
            " leaky_re_lu_16 (LeakyReLU)  (None, 4, 4, 256)         0         \n",
            "                                                                 \n",
            " max_pooling2d_13 (MaxPoolin  (None, 2, 2, 256)        0         \n",
            " g2D)                                                            \n",
            "                                                                 \n",
            " dropout_12 (Dropout)        (None, 2, 2, 256)         0         \n",
            "                                                                 \n",
            " conv2d_14 (Conv2D)          (None, 2, 2, 512)         1180160   \n",
            "                                                                 \n",
            " leaky_re_lu_17 (LeakyReLU)  (None, 2, 2, 512)         0         \n",
            "                                                                 \n",
            " max_pooling2d_14 (MaxPoolin  (None, 1, 1, 512)        0         \n",
            " g2D)                                                            \n",
            "                                                                 \n",
            " dropout_13 (Dropout)        (None, 1, 1, 512)         0         \n",
            "                                                                 \n",
            " flatten_3 (Flatten)         (None, 512)               0         \n",
            "                                                                 \n",
            " dense_6 (Dense)             (None, 128)               65664     \n",
            "                                                                 \n",
            " leaky_re_lu_18 (LeakyReLU)  (None, 128)               0         \n",
            "                                                                 \n",
            " dropout_14 (Dropout)        (None, 128)               0         \n",
            "                                                                 \n",
            " dense_7 (Dense)             (None, 10)                1290      \n",
            "                                                                 \n",
            "=================================================================\n",
            "Total params: 1,634,954\n",
            "Trainable params: 1,634,954\n",
            "Non-trainable params: 0\n",
            "_________________________________________________________________\n"
          ]
        }
      ],
      "source": [
        "model.summary()"
      ]
    },
    {
      "cell_type": "code",
      "execution_count": null,
      "metadata": {
        "id": "9drfHywa5Sh7"
      },
      "outputs": [],
      "source": [
        "model.compile(loss=keras.losses.categorical_crossentropy, optimizer=keras.optimizers.Adam(),metrics=['accuracy'])"
      ]
    },
    {
      "cell_type": "code",
      "execution_count": null,
      "metadata": {
        "colab": {
          "background_save": true,
          "base_uri": "https://localhost:8080/"
        },
        "id": "XR59FRFI5dEU",
        "outputId": "3f07590a-a5b3-44cd-f001-050c3a2f4e9a"
      },
      "outputs": [
        {
          "name": "stdout",
          "output_type": "stream",
          "text": [
            "Epoch 1/30\n",
            "750/750 [==============================] - 589s 784ms/step - loss: 0.7214 - accuracy: 0.7287 - val_loss: 0.3960 - val_accuracy: 0.8543\n",
            "Epoch 2/30\n",
            "750/750 [==============================] - 575s 767ms/step - loss: 0.4077 - accuracy: 0.8514 - val_loss: 0.3144 - val_accuracy: 0.8829\n",
            "Epoch 3/30\n",
            "750/750 [==============================] - 581s 775ms/step - loss: 0.3513 - accuracy: 0.8705 - val_loss: 0.2872 - val_accuracy: 0.8962\n",
            "Epoch 4/30\n",
            "750/750 [==============================] - 585s 780ms/step - loss: 0.3279 - accuracy: 0.8809 - val_loss: 0.2668 - val_accuracy: 0.9012\n",
            "Epoch 5/30\n",
            "750/750 [==============================] - 580s 773ms/step - loss: 0.3136 - accuracy: 0.8858 - val_loss: 0.2719 - val_accuracy: 0.8970\n",
            "Epoch 6/30\n",
            "750/750 [==============================] - 572s 762ms/step - loss: 0.2918 - accuracy: 0.8933 - val_loss: 0.2524 - val_accuracy: 0.9075\n",
            "Epoch 7/30\n",
            "750/750 [==============================] - 576s 768ms/step - loss: 0.2871 - accuracy: 0.8944 - val_loss: 0.2816 - val_accuracy: 0.9000\n",
            "Epoch 8/30\n",
            "750/750 [==============================] - 568s 757ms/step - loss: 0.2841 - accuracy: 0.8966 - val_loss: 0.2488 - val_accuracy: 0.9084\n",
            "Epoch 9/30\n",
            "750/750 [==============================] - 567s 757ms/step - loss: 0.2749 - accuracy: 0.8996 - val_loss: 0.2404 - val_accuracy: 0.9122\n",
            "Epoch 10/30\n",
            "750/750 [==============================] - 564s 752ms/step - loss: 0.2700 - accuracy: 0.9020 - val_loss: 0.2379 - val_accuracy: 0.9135\n",
            "Epoch 11/30\n",
            "750/750 [==============================] - 580s 774ms/step - loss: 0.2657 - accuracy: 0.9022 - val_loss: 0.2370 - val_accuracy: 0.9121\n",
            "Epoch 12/30\n",
            "750/750 [==============================] - 572s 762ms/step - loss: 0.2584 - accuracy: 0.9041 - val_loss: 0.2350 - val_accuracy: 0.9153\n",
            "Epoch 13/30\n",
            "750/750 [==============================] - 580s 773ms/step - loss: 0.2537 - accuracy: 0.9067 - val_loss: 0.2401 - val_accuracy: 0.9162\n",
            "Epoch 14/30\n",
            "750/750 [==============================] - 579s 772ms/step - loss: 0.2524 - accuracy: 0.9070 - val_loss: 0.2466 - val_accuracy: 0.9107\n",
            "Epoch 15/30\n",
            "750/750 [==============================] - 575s 767ms/step - loss: 0.2537 - accuracy: 0.9074 - val_loss: 0.2315 - val_accuracy: 0.9157\n",
            "Epoch 16/30\n",
            "750/750 [==============================] - 577s 770ms/step - loss: 0.2500 - accuracy: 0.9085 - val_loss: 0.2414 - val_accuracy: 0.9118\n",
            "Epoch 17/30\n",
            "750/750 [==============================] - 591s 788ms/step - loss: 0.2475 - accuracy: 0.9086 - val_loss: 0.2294 - val_accuracy: 0.9174\n",
            "Epoch 18/30\n",
            "750/750 [==============================] - 591s 788ms/step - loss: 0.2442 - accuracy: 0.9109 - val_loss: 0.2231 - val_accuracy: 0.9178\n",
            "Epoch 19/30\n",
            "750/750 [==============================] - 575s 766ms/step - loss: 0.2403 - accuracy: 0.9115 - val_loss: 0.2317 - val_accuracy: 0.9159\n",
            "Epoch 20/30\n",
            "750/750 [==============================] - 581s 775ms/step - loss: 0.2396 - accuracy: 0.9123 - val_loss: 0.2287 - val_accuracy: 0.9194\n",
            "Epoch 21/30\n",
            "750/750 [==============================] - 570s 760ms/step - loss: 0.2408 - accuracy: 0.9116 - val_loss: 0.2207 - val_accuracy: 0.9233\n",
            "Epoch 22/30\n",
            "750/750 [==============================] - 580s 773ms/step - loss: 0.2358 - accuracy: 0.9134 - val_loss: 0.2250 - val_accuracy: 0.9217\n",
            "Epoch 23/30\n",
            "750/750 [==============================] - 572s 763ms/step - loss: 0.2383 - accuracy: 0.9125 - val_loss: 0.2288 - val_accuracy: 0.9218\n",
            "Epoch 24/30\n",
            "750/750 [==============================] - 585s 781ms/step - loss: 0.2310 - accuracy: 0.9133 - val_loss: 0.2319 - val_accuracy: 0.9193\n",
            "Epoch 25/30\n",
            "750/750 [==============================] - 569s 759ms/step - loss: 0.2372 - accuracy: 0.9121 - val_loss: 0.2354 - val_accuracy: 0.9176\n",
            "Epoch 26/30\n",
            "750/750 [==============================] - 575s 767ms/step - loss: 0.2336 - accuracy: 0.9135 - val_loss: 0.2282 - val_accuracy: 0.9196\n",
            "Epoch 27/30\n",
            "750/750 [==============================] - 571s 761ms/step - loss: 0.2346 - accuracy: 0.9131 - val_loss: 0.2191 - val_accuracy: 0.9242\n",
            "Epoch 28/30\n",
            "750/750 [==============================] - 570s 760ms/step - loss: 0.2334 - accuracy: 0.9148 - val_loss: 0.2225 - val_accuracy: 0.9237\n",
            "Epoch 29/30\n",
            "750/750 [==============================] - 583s 777ms/step - loss: 0.2307 - accuracy: 0.9167 - val_loss: 0.2280 - val_accuracy: 0.9232\n",
            "Epoch 30/30\n",
            "750/750 [==============================] - 599s 799ms/step - loss: 0.2225 - accuracy: 0.9176 - val_loss: 0.2229 - val_accuracy: 0.9229\n"
          ]
        }
      ],
      "source": [
        "train_dropout = model.fit(train_X, train_label, batch_size=batch_size,epochs=epochs,verbose=1,validation_data=(valid_X, valid_label))"
      ]
    },
    {
      "cell_type": "code",
      "source": [
        "test_eval = model.evaluate(test_X, onehot_test_Y, verbose=0)"
      ],
      "metadata": {
        "id": "vrWi_P6lYJXF"
      },
      "execution_count": null,
      "outputs": []
    },
    {
      "cell_type": "code",
      "execution_count": null,
      "metadata": {
        "colab": {
          "base_uri": "https://localhost:8080/",
          "height": 887
        },
        "id": "FQplsrvq5kYw",
        "outputId": "ba198c03-9eb5-48d5-a490-f1a71f20d0ca"
      },
      "outputs": [
        {
          "data": {
            "image/png": "[encoded data removed]",
            "text/plain": [
              "<Figure size 640x480 with 1 Axes>"
            ]
          },
          "metadata": {},
          "output_type": "display_data"
        },
        {
          "data": {
            "image/png": "[encoded data removed]",
            "text/plain": [
              "<Figure size 640x480 with 1 Axes>"
            ]
          },
          "metadata": {},
          "output_type": "display_data"
        }
      ],
      "source": [
        "accuracy = train_dropout.history['accuracy']\n",
        "val_accuracy = train_dropout.history['val_accuracy']\n",
        "loss = train_dropout.history['loss']\n",
        "val_loss = train_dropout.history['val_loss']\n",
        "epochs = range(len(accuracy))\n",
        "plt.plot(epochs, accuracy, 'bo', label='Training accuracy')\n",
        "plt.plot(epochs, val_accuracy, 'b', label='Validation accuracy')\n",
        "plt.title('Training and validation accuracy')\n",
        "plt.legend()\n",
        "plt.figure()\n",
        "plt.plot(epochs, loss, 'bo', label='Training loss')\n",
        "plt.plot(epochs, val_loss, 'b', label='Validation loss')\n",
        "plt.title('Training and validation loss')\n",
        "plt.legend()\n",
        "plt.show()"
      ]
    }
  ],
  "metadata": {
    "colab": {
      "provenance": []
    },
    "kernelspec": {
      "display_name": "Python 3",
      "name": "python3"
    },
    "language_info": {
      "name": "python"
    }
  },
  "nbformat": 4,
  "nbformat_minor": 0
}